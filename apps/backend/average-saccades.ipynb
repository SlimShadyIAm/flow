{
 "cells": [
  {
   "cell_type": "code",
   "execution_count": 1,
   "metadata": {},
   "outputs": [
    {
     "name": "stdout",
     "output_type": "stream",
     "text": [
      "Mean , std , difference\n"
     ]
    },
    {
     "name": "stderr",
     "output_type": "stream",
     "text": [
      "/Users/larsrefsgaard/Documents/Git/flow/apps/backend/velocityThreshold.py:62: RuntimeWarning: invalid value encountered in scalar divide\n",
      "  rho = cov[0,1] / (sx*sy)\n",
      "/Users/larsrefsgaard/Documents/Git/flow/apps/backend/velocityThreshold.py:62: RuntimeWarning: invalid value encountered in scalar divide\n",
      "  rho = cov[0,1] / (sx*sy)\n"
     ]
    },
    {
     "name": "stdout",
     "output_type": "stream",
     "text": [
      "9 0.021104795102164457 0.024027883023778892 0.0014615439608072177 -0.0029230879216144354\n"
     ]
    },
    {
     "name": "stderr",
     "output_type": "stream",
     "text": [
      "/Users/larsrefsgaard/Documents/Git/flow/apps/backend/velocityThreshold.py:62: RuntimeWarning: invalid value encountered in scalar divide\n",
      "  rho = cov[0,1] / (sx*sy)\n",
      "/Users/larsrefsgaard/Documents/Git/flow/apps/backend/velocityThreshold.py:62: RuntimeWarning: invalid value encountered in scalar divide\n",
      "  rho = cov[0,1] / (sx*sy)\n"
     ]
    },
    {
     "name": "stdout",
     "output_type": "stream",
     "text": [
      "10 0.0267587375299098 0.022483576177019585 0.0021375806764451083 0.004275161352890217\n"
     ]
    },
    {
     "name": "stderr",
     "output_type": "stream",
     "text": [
      "/Users/larsrefsgaard/Documents/Git/flow/apps/backend/velocityThreshold.py:62: RuntimeWarning: invalid value encountered in scalar divide\n",
      "  rho = cov[0,1] / (sx*sy)\n",
      "/Users/larsrefsgaard/Documents/Git/flow/apps/backend/velocityThreshold.py:62: RuntimeWarning: invalid value encountered in scalar divide\n",
      "  rho = cov[0,1] / (sx*sy)\n"
     ]
    },
    {
     "name": "stdout",
     "output_type": "stream",
     "text": [
      "11 0.024796495515689833 0.023213276960788398 0.0007916092774507173 0.0015832185549014346\n"
     ]
    },
    {
     "name": "stderr",
     "output_type": "stream",
     "text": [
      "/Users/larsrefsgaard/Documents/Git/flow/apps/backend/velocityThreshold.py:62: RuntimeWarning: invalid value encountered in scalar divide\n",
      "  rho = cov[0,1] / (sx*sy)\n",
      "/Users/larsrefsgaard/Documents/Git/flow/apps/backend/velocityThreshold.py:62: RuntimeWarning: invalid value encountered in scalar divide\n",
      "  rho = cov[0,1] / (sx*sy)\n"
     ]
    },
    {
     "name": "stdout",
     "output_type": "stream",
     "text": [
      "12 0.028657347188743337 0.03231144403737602 0.001827048424316342 -0.003654096848632684\n"
     ]
    },
    {
     "name": "stderr",
     "output_type": "stream",
     "text": [
      "/Users/larsrefsgaard/Documents/Git/flow/apps/backend/velocityThreshold.py:62: RuntimeWarning: invalid value encountered in scalar divide\n",
      "  rho = cov[0,1] / (sx*sy)\n",
      "/Users/larsrefsgaard/Documents/Git/flow/apps/backend/velocityThreshold.py:62: RuntimeWarning: invalid value encountered in scalar divide\n",
      "  rho = cov[0,1] / (sx*sy)\n"
     ]
    },
    {
     "name": "stdout",
     "output_type": "stream",
     "text": [
      "13 0.02358393732009662 0.021433522963154785 0.0010752071784709168 0.0021504143569418335\n"
     ]
    },
    {
     "name": "stderr",
     "output_type": "stream",
     "text": [
      "/Users/larsrefsgaard/Documents/Git/flow/apps/backend/velocityThreshold.py:62: RuntimeWarning: invalid value encountered in scalar divide\n",
      "  rho = cov[0,1] / (sx*sy)\n",
      "/Users/larsrefsgaard/Documents/Git/flow/apps/backend/velocityThreshold.py:62: RuntimeWarning: invalid value encountered in scalar divide\n",
      "  rho = cov[0,1] / (sx*sy)\n"
     ]
    },
    {
     "name": "stdout",
     "output_type": "stream",
     "text": [
      "14 0.025176384615386304 0.024272225581394382 0.000452079516995961 0.000904159033991922\n"
     ]
    },
    {
     "name": "stderr",
     "output_type": "stream",
     "text": [
      "/Users/larsrefsgaard/Documents/Git/flow/apps/backend/velocityThreshold.py:62: RuntimeWarning: invalid value encountered in scalar divide\n",
      "  rho = cov[0,1] / (sx*sy)\n",
      "/Users/larsrefsgaard/Documents/Git/flow/apps/backend/velocityThreshold.py:62: RuntimeWarning: invalid value encountered in scalar divide\n",
      "  rho = cov[0,1] / (sx*sy)\n"
     ]
    },
    {
     "name": "stdout",
     "output_type": "stream",
     "text": [
      "15 0.02288125063361942 0.021423277079030374 0.0007289867772945231 0.0014579735545890461\n"
     ]
    },
    {
     "name": "stderr",
     "output_type": "stream",
     "text": [
      "/Users/larsrefsgaard/Documents/Git/flow/apps/backend/velocityThreshold.py:62: RuntimeWarning: invalid value encountered in scalar divide\n",
      "  rho = cov[0,1] / (sx*sy)\n",
      "/Users/larsrefsgaard/Documents/Git/flow/apps/backend/velocityThreshold.py:62: RuntimeWarning: invalid value encountered in scalar divide\n",
      "  rho = cov[0,1] / (sx*sy)\n"
     ]
    },
    {
     "name": "stdout",
     "output_type": "stream",
     "text": [
      "16 0.022688265060388808 0.022711322966346998 1.1528952979095175e-05 -2.305790595819035e-05\n"
     ]
    },
    {
     "name": "stderr",
     "output_type": "stream",
     "text": [
      "/Users/larsrefsgaard/Documents/Git/flow/apps/backend/velocityThreshold.py:62: RuntimeWarning: invalid value encountered in scalar divide\n",
      "  rho = cov[0,1] / (sx*sy)\n",
      "/Users/larsrefsgaard/Documents/Git/flow/apps/backend/velocityThreshold.py:62: RuntimeWarning: invalid value encountered in scalar divide\n",
      "  rho = cov[0,1] / (sx*sy)\n"
     ]
    },
    {
     "name": "stdout",
     "output_type": "stream",
     "text": [
      "17 0.020101249498452715 0.019051759219309215 0.0005247451395717501 0.0010494902791435001\n"
     ]
    },
    {
     "name": "stderr",
     "output_type": "stream",
     "text": [
      "/Users/larsrefsgaard/Documents/Git/flow/apps/backend/velocityThreshold.py:62: RuntimeWarning: invalid value encountered in scalar divide\n",
      "  rho = cov[0,1] / (sx*sy)\n",
      "/Users/larsrefsgaard/Documents/Git/flow/apps/backend/velocityThreshold.py:62: RuntimeWarning: invalid value encountered in scalar divide\n",
      "  rho = cov[0,1] / (sx*sy)\n"
     ]
    },
    {
     "name": "stdout",
     "output_type": "stream",
     "text": [
      "18 0.027824839998967947 0.026122450882361342 0.0008511945583033025 0.001702389116606605\n"
     ]
    },
    {
     "name": "stderr",
     "output_type": "stream",
     "text": [
      "/Users/larsrefsgaard/Documents/Git/flow/apps/backend/velocityThreshold.py:62: RuntimeWarning: invalid value encountered in scalar divide\n",
      "  rho = cov[0,1] / (sx*sy)\n",
      "/Users/larsrefsgaard/Documents/Git/flow/apps/backend/velocityThreshold.py:62: RuntimeWarning: invalid value encountered in scalar divide\n",
      "  rho = cov[0,1] / (sx*sy)\n"
     ]
    },
    {
     "name": "stdout",
     "output_type": "stream",
     "text": [
      "19 0.018691086626521775 0.016915885737285433 0.000887600444618171 0.001775200889236342\n"
     ]
    },
    {
     "name": "stderr",
     "output_type": "stream",
     "text": [
      "/Users/larsrefsgaard/Documents/Git/flow/apps/backend/velocityThreshold.py:62: RuntimeWarning: invalid value encountered in scalar divide\n",
      "  rho = cov[0,1] / (sx*sy)\n",
      "/Users/larsrefsgaard/Documents/Git/flow/apps/backend/velocityThreshold.py:62: RuntimeWarning: invalid value encountered in scalar divide\n",
      "  rho = cov[0,1] / (sx*sy)\n"
     ]
    },
    {
     "name": "stdout",
     "output_type": "stream",
     "text": [
      "20 0.03097984567814561 0.026800844827314194 0.002089500425415709 0.004179000850831418\n"
     ]
    },
    {
     "name": "stderr",
     "output_type": "stream",
     "text": [
      "/Users/larsrefsgaard/Documents/Git/flow/apps/backend/velocityThreshold.py:62: RuntimeWarning: invalid value encountered in scalar divide\n",
      "  rho = cov[0,1] / (sx*sy)\n",
      "/Users/larsrefsgaard/Documents/Git/flow/apps/backend/velocityThreshold.py:62: RuntimeWarning: invalid value encountered in scalar divide\n",
      "  rho = cov[0,1] / (sx*sy)\n"
     ]
    },
    {
     "name": "stdout",
     "output_type": "stream",
     "text": [
      "21 0.021054970600167925 0.019579225956918078 0.0007378723216249234 0.0014757446432498468\n"
     ]
    },
    {
     "data": {
      "text/plain": [
       "9     0.022566\n",
       "10    0.024621\n",
       "11    0.024005\n",
       "12    0.030484\n",
       "13    0.022509\n",
       "14    0.024724\n",
       "15    0.022152\n",
       "16    0.022700\n",
       "17    0.019577\n",
       "18    0.026974\n",
       "19    0.017803\n",
       "20    0.028890\n",
       "21    0.020317\n",
       "dtype: float64"
      ]
     },
     "metadata": {},
     "output_type": "display_data"
    }
   ],
   "source": [
    "import numpy as np\n",
    "import pandas as pd\n",
    "from datetime import datetime\n",
    "import matplotlib.pyplot as plt\n",
    "from utils import (\n",
    "    DEGREES_PER_PIXEL,\n",
    "    TIMESTAMP_IDENT,\n",
    "    X_PIXELS,\n",
    "    Y_PIXELS,\n",
    "    Events,\n",
    "    extract_gaze_data_between_timestamps_proper,\n",
    "    get_participant_dominant_eye,\n",
    ")\n",
    "import json\n",
    "\n",
    "\n",
    "from velocityThreshold import detect_fix_ivt, find_sacc_from_fix\n",
    "\n",
    "# from scipy import ttest_ind\n",
    "\n",
    "EYE_TRACKER_FOLDER = \"eye_tracker_data/\"\n",
    "GAZE_DATA = []\n",
    "GAZE_DATA_BOOK = []\n",
    "GAZE_DATA_PAGE = []\n",
    "\n",
    "# participants that were told that they can change the settings beforehand\n",
    "participant_ids = [9, 10, 11, 12, 13, 14, 15, 16, 17, 18, 19, 20, 21]\n",
    "subquery = Events.select().where(Events.participant_id.in_(participant_ids))\n",
    "avg_saccades = {_id: [] for _id in participant_ids}\n",
    "\n",
    "print(f\"Mean , std , difference\")\n",
    "\n",
    "for participant in participant_ids:\n",
    "    books = subquery.where(\n",
    "        (Events.event == \"OPEN_BOOK\")\n",
    "        & (Events.new_value != \"Chasing Sunsets - \")\n",
    "        & (Events.participant_id == participant)\n",
    "    )\n",
    "\n",
    "    average_length = []\n",
    "    saccades = []\n",
    "    for i, book in enumerate(books):\n",
    "        START_TIME_BOOK = book.time\n",
    "        book_end = (\n",
    "            subquery.where(Events.event == \"CLOSE_BOOK\")\n",
    "            .where(Events.time > START_TIME_BOOK)\n",
    "            .get()\n",
    "        )\n",
    "        END_TIME_BOOK = book_end.time\n",
    "\n",
    "        # Get the events that have a timestamp less than the first CLOSE_BOOK event\n",
    "        events_book = subquery.where(Events.time <= END_TIME_BOOK)\n",
    "\n",
    "        # Read from participants.json whether or not the participant has low resolution data\n",
    "        # These we should not divide the timestamp with 1000\n",
    "\n",
    "        LOW_RES = json.load(open(\"participants.json\", \"r\"))[f\"{book.participant_id}\"][\n",
    "            \"low_resolution\"\n",
    "        ]\n",
    "        if not LOW_RES:\n",
    "            START_TIME_BOOK /= 1000\n",
    "        formatted_time = datetime.fromtimestamp(START_TIME_BOOK).strftime(\n",
    "            \"%Y-%m-%d_%H-%M-%S\"\n",
    "        )\n",
    "        GAZE_FILE = f\"{EYE_TRACKER_FOLDER}[{book.participant_id}]-{formatted_time}.json\"\n",
    "        f = open(GAZE_FILE, \"r\")\n",
    "        GAZE_DATA_BOOK = json.load(f)\n",
    "        f.close()\n",
    "\n",
    "        timestamps = []\n",
    "        x = []\n",
    "        y = []\n",
    "\n",
    "        DOMINANT_EYE = get_participant_dominant_eye(participant)\n",
    "\n",
    "        # for each packet, plot the gaze point\n",
    "        for packet in GAZE_DATA_BOOK[\"data\"]:\n",
    "            if packet[f\"{DOMINANT_EYE}_gaze_point_validity\"] == 0:\n",
    "                continue\n",
    "            x.append(\n",
    "                (packet[f\"{DOMINANT_EYE}_gaze_point_on_display_area\"][0] * X_PIXELS)\n",
    "                # * DEGREES_PER_PIXEL\n",
    "            )\n",
    "            y.append(\n",
    "                (packet[f\"{DOMINANT_EYE}_gaze_point_on_display_area\"][1] * Y_PIXELS)\n",
    "                # * DEGREES_PER_PIXEL\n",
    "            )\n",
    "            timestamps.append(packet[TIMESTAMP_IDENT])\n",
    "\n",
    "        df = pd.DataFrame({\"x\": x, \"y\": y, \"ts\": timestamps})\n",
    "        df = df.sort_values(by=\"ts\")\n",
    "        df = df.reset_index(drop=True)\n",
    "\n",
    "        df[\"x\"] = df[\"x\"] * DEGREES_PER_PIXEL\n",
    "        df[\"y\"] = df[\"y\"] * DEGREES_PER_PIXEL\n",
    "        df[\"ts\"] = df[\"ts\"] / 1_000_000\n",
    "\n",
    "        # display(df)\n",
    "        SACCADIC_THRESHOLD = 80\n",
    "        # Plot fixations\n",
    "        fixations, v, labels = detect_fix_ivt(df, sacvel=SACCADIC_THRESHOLD)\n",
    "        saccades_part = find_sacc_from_fix(fixations)\n",
    "        average_length.append(np.mean(saccades_part[\"len\"]))\n",
    "\n",
    "    print(\n",
    "        f\"{participant} {average_length[0]} {average_length[1]} {np.std(average_length)} {average_length[0] - average_length[1]}\"\n",
    "    )\n",
    "\n",
    "df = pd.DataFrame(avg_saccades)\n",
    "# print the mean saccade length for each participant\n",
    "display(df.mean())\n",
    "\n",
    "    # Do a t-test to see if the mean saccade length is significantly different between the two books\n",
    "    # # Perform t-test\n",
    "    # t_statistic, p_value = ttest_ind(saccades[0]['len'], saccades[0]['len'])\n",
    "\n",
    "    # # Print the results\n",
    "    # print(f\"T-Statistic: {t_statistic}\")\n",
    "    # print(f\"P-Value: {p_value}\")"
   ]
  }
 ],
 "metadata": {
  "kernelspec": {
   "display_name": "venv-anal",
   "language": "python",
   "name": "python3"
  },
  "language_info": {
   "codemirror_mode": {
    "name": "ipython",
    "version": 3
   },
   "file_extension": ".py",
   "mimetype": "text/x-python",
   "name": "python",
   "nbconvert_exporter": "python",
   "pygments_lexer": "ipython3",
   "version": "3.11.6"
  }
 },
 "nbformat": 4,
 "nbformat_minor": 2
}
