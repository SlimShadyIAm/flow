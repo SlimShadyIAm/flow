{
 "cells": [
  {
   "cell_type": "code",
   "execution_count": 1,
   "metadata": {},
   "outputs": [],
   "source": [
    "from utils import Events, print_record, show_screenshot_for_record\n"
   ]
  },
  {
   "cell_type": "code",
   "execution_count": 2,
   "metadata": {},
   "outputs": [],
   "source": [
    "PARTICIPANTS_THAT_WERE_TOLD = Events.select(Events.participant_id).where(Events.event == 'SELECT_TREATMENT').where(Events.new_value.in_(['Treatment 2,1', 'Treatment 2,2', 'Treatment 2,3'])).distinct()\n",
    "PARTICIPANTS_THAT_WERE_NOT_TOLD = Events.select(Events.participant_id).where(Events.event == 'SELECT_TREATMENT').where(Events.new_value.in_(['Treatment 2,4', 'Treatment 2,5', 'Treatment 2,6'])).distinct()\n",
    "\n",
    "# get the ids as a list\n",
    "PARTICIPANTS_THAT_WERE_TOLD = [p.participant_id for p in PARTICIPANTS_THAT_WERE_TOLD]\n",
    "PARTICIPANTS_THAT_WERE_NOT_TOLD = [p.participant_id for p in PARTICIPANTS_THAT_WERE_NOT_TOLD]"
   ]
  }
 ],
 "metadata": {
  "kernelspec": {
   "display_name": "venv-anal",
   "language": "python",
   "name": "python3"
  },
  "language_info": {
   "codemirror_mode": {
    "name": "ipython",
    "version": 3
   },
   "file_extension": ".py",
   "mimetype": "text/x-python",
   "name": "python",
   "nbconvert_exporter": "python",
   "pygments_lexer": "ipython3",
   "version": "3.11.6"
  }
 },
 "nbformat": 4,
 "nbformat_minor": 2
}
