{
 "cells": [
  {
   "cell_type": "code",
   "execution_count": 1,
   "metadata": {},
   "outputs": [],
   "source": [
    "from utils import Events, print_record, show_screenshot_for_record\n"
   ]
  },
  {
   "cell_type": "code",
   "execution_count": 2,
   "metadata": {},
   "outputs": [],
   "source": [
    "PARTICIPANTS_THAT_WERE_TOLD = Events.select(Events.participant_id).where(Events.event == 'SELECT_TREATMENT').where(Events.new_value.in_(['Treatment 2,1', 'Treatment 2,2', 'Treatment 2,3'])).distinct()\n",
    "PARTICIPANTS_THAT_WERE_NOT_TOLD = Events.select(Events.participant_id).where(Events.event == 'SELECT_TREATMENT').where(Events.new_value.in_(['Treatment 2,4', 'Treatment 2,5', 'Treatment 2,6'])).distinct()\n",
    "\n",
    "# get the ids as a list\n",
    "PARTICIPANTS_THAT_WERE_TOLD = [p.participant_id for p in PARTICIPANTS_THAT_WERE_TOLD]\n",
    "PARTICIPANTS_THAT_WERE_NOT_TOLD = [p.participant_id for p in PARTICIPANTS_THAT_WERE_NOT_TOLD]"
   ]
  },
  {
   "cell_type": "code",
   "execution_count": null,
   "metadata": {},
   "outputs": [],
   "source": [
    "for participant in PARTICIPANTS_THAT_WERE_TOLD:\n",
    "    # get all of this participant's events\n",
    "    all_events = Events.select().where(Events.participant_id == participant).order_by(Events.time.asc())\n",
    "\n",
    "    # get the first OPEN_BOOK event for this participant  \n",
    "    open_book_event = all_events.where(Events.event == 'OPEN_BOOK').order_by(Events.time.asc()).limit(1)[0]\n",
    "\n",
    "    # get the first CLOSE_BOOK event for this participant\n",
    "    close_book_event = all_events.where(Events.event == 'CLOSE_BOOK').order_by(Events.time.asc()).limit(1)[0]\n",
    "\n",
    "    events_for_book1 = all_events.where(Events.participant_id == participant).where(Events.time.between(open_book_event.time, close_book_event.time)).order_by(Events.time.asc())\n",
    "\n",
    "    number_changes_book1 = len([event for event in events_for_book1 if event.event.startswith('SET_')])"
   ]
  }
 ],
 "metadata": {
  "kernelspec": {
   "display_name": "venv-anal",
   "language": "python",
   "name": "python3"
  },
  "language_info": {
   "codemirror_mode": {
    "name": "ipython",
    "version": 3
   },
   "file_extension": ".py",
   "mimetype": "text/x-python",
   "name": "python",
   "nbconvert_exporter": "python",
   "pygments_lexer": "ipython3",
   "version": "3.11.6"
  }
 },
 "nbformat": 4,
 "nbformat_minor": 2
}
