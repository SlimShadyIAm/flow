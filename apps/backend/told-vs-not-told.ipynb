{
 "cells": [
  {
   "cell_type": "code",
   "execution_count": 7,
   "metadata": {},
   "outputs": [],
   "source": [
    "import numpy as np\n",
    "\n",
    "from IPython.display import display\n",
    "from PIL import Image\n",
    "from peewee import IntegerField, Model, CharField, SqliteDatabase, AutoField\n",
    "import matplotlib.pyplot as plt\n",
    "\n",
    "db = SqliteDatabase('events.db')\n",
    "\n",
    "X_PIXELS = 2560\n",
    "Y_PIXELS = 1440\n",
    "\n",
    "class Events(Model):\n",
    "    id = AutoField()\n",
    "    time = IntegerField()\n",
    "    agent = CharField()\n",
    "    event = CharField()\n",
    "    participant_id = IntegerField()\n",
    "    old_value = CharField(null=True)\n",
    "    new_value = CharField(null=True)\n",
    "    screenshot_file = CharField(null=True)\n",
    "\n",
    "    class Meta:\n",
    "        database = db\n",
    "\n",
    "def print_record(record):\n",
    "    print(record.id, record.time, record.agent, record.event, record.participant_id, record.old_value, record.new_value, record.screenshot_file)\n",
    "\n",
    "def show_screenshot_for_record(_id):\n",
    "    events = Events.select().where(Events.id == _id).order_by(Events.time.asc()).limit(1)\n",
    "    if len(events) == 0:\n",
    "        print(\"No events found for id: \", _id)\n",
    "        return\n",
    "    event = events[0]\n",
    "    image_path = event.screenshot_file\n",
    "    print(_id)\n",
    "    display(Image.open(image_path))\n"
   ]
  },
  {
   "cell_type": "code",
   "execution_count": 8,
   "metadata": {},
   "outputs": [
    {
     "name": "stdout",
     "output_type": "stream",
     "text": [
      "Participants that were told:  [10, 16, 21, 17, 9]\n"
     ]
    }
   ],
   "source": [
    "PARTICIPANTS_THAT_WERE_TOLD = Events.select(Events.participant_id).where(Events.event == 'SELECT_TREATMENT').where(Events.new_value.in_(['Treatment 2,1', 'Treatment 2,2', 'Treatment 2,3'])).distinct()\n",
    "PARTICIPANTS_THAT_WERE_NOT_TOLD = Events.select(Events.participant_id).where(Events.event == 'SELECT_TREATMENT').where(Events.new_value.in_(['Treatment 2,4', 'Treatment 2,5', 'Treatment 2,6'])).distinct()\n",
    "\n",
    "# get the ids as a list \n",
    "PARTICIPANTS_THAT_WERE_TOLD = [p.participant_id for p in PARTICIPANTS_THAT_WERE_TOLD]\n",
    "PARTICIPANTS_THAT_WERE_NOT_TOLD = [p.participant_id for p in PARTICIPANTS_THAT_WERE_NOT_TOLD]"
   ]
  }
 ],
 "metadata": {
  "kernelspec": {
   "display_name": "venv-anal",
   "language": "python",
   "name": "python3"
  },
  "language_info": {
   "codemirror_mode": {
    "name": "ipython",
    "version": 3
   },
   "file_extension": ".py",
   "mimetype": "text/x-python",
   "name": "python",
   "nbconvert_exporter": "python",
   "pygments_lexer": "ipython3",
   "version": "3.11.5"
  }
 },
 "nbformat": 4,
 "nbformat_minor": 2
}
