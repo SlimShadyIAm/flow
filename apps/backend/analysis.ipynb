{
 "cells": [
  {
   "cell_type": "code",
   "execution_count": null,
   "metadata": {},
   "outputs": [],
   "source": [
    "# This script will be used to analyze the eye-tracking data from the experiment.\n",
    "# It will be used to generate the figures and statistics for the paper.\n",
    "'''\n",
    "We hypothesize that individuals with visual impairments\n",
    "will be more inclined to adjust the text presentation when confronted with a clear problem\n",
    "compared to individuals with normal vision. This inclination\n",
    "is based on the observation that individuals with low vision often need to\n",
    "customize text presentation settings more frequently\n",
    "when using typical applications like Microsoft Word or Apple Books.\n",
    "A \"clear problem\" in this context could refer to issues\n",
    "such as excessively large margins relative to the text size,\n",
    "which can make it challenging to track the beginning of the next line.\n",
    "'''\n"
   ]
  },
  {
   "cell_type": "code",
   "execution_count": 8,
   "metadata": {},
   "outputs": [
    {
     "ename": "ModuleNotFoundError",
     "evalue": "No module named 'pydantic'",
     "output_type": "error",
     "traceback": [
      "\u001b[0;31m---------------------------------------------------------------------------\u001b[0m",
      "\u001b[0;31mModuleNotFoundError\u001b[0m                       Traceback (most recent call last)",
      "\u001b[1;32m/Users/larsrefsgaard/repos/flow/apps/analysis/analysis.ipynb Cell 2\u001b[0m line \u001b[0;36m9\n\u001b[1;32m      <a href='vscode-notebook-cell:/Users/larsrefsgaard/repos/flow/apps/analysis/analysis.ipynb#W1sZmlsZQ%3D%3D?line=5'>6</a>\u001b[0m \u001b[39mimport\u001b[39;00m \u001b[39msys\u001b[39;00m\n\u001b[1;32m      <a href='vscode-notebook-cell:/Users/larsrefsgaard/repos/flow/apps/analysis/analysis.ipynb#W1sZmlsZQ%3D%3D?line=6'>7</a>\u001b[0m sys\u001b[39m.\u001b[39mpath\u001b[39m.\u001b[39mappend(\u001b[39m'\u001b[39m\u001b[39m../backend\u001b[39m\u001b[39m'\u001b[39m)\n\u001b[0;32m----> <a href='vscode-notebook-cell:/Users/larsrefsgaard/repos/flow/apps/analysis/analysis.ipynb#W1sZmlsZQ%3D%3D?line=8'>9</a>\u001b[0m \u001b[39mimport\u001b[39;00m \u001b[39mmodels\u001b[39;00m\n\u001b[1;32m     <a href='vscode-notebook-cell:/Users/larsrefsgaard/repos/flow/apps/analysis/analysis.ipynb#W1sZmlsZQ%3D%3D?line=9'>10</a>\u001b[0m \u001b[39mfrom\u001b[39;00m \u001b[39m.\u001b[39;00m\u001b[39m.\u001b[39;00m\u001b[39mbackend\u001b[39;00m\u001b[39m.\u001b[39;00m\u001b[39mmain\u001b[39;00m \u001b[39mimport\u001b[39;00m Events\n\u001b[1;32m     <a href='vscode-notebook-cell:/Users/larsrefsgaard/repos/flow/apps/analysis/analysis.ipynb#W1sZmlsZQ%3D%3D?line=10'>11</a>\u001b[0m \u001b[39mimport\u001b[39;00m \u001b[39mnumpy\u001b[39;00m \u001b[39mas\u001b[39;00m \u001b[39mnp\u001b[39;00m\n",
      "File \u001b[0;32m~/repos/flow/apps/analysis/../backend/models.py:2\u001b[0m\n\u001b[1;32m      1\u001b[0m \u001b[39mfrom\u001b[39;00m \u001b[39mtyping\u001b[39;00m \u001b[39mimport\u001b[39;00m Optional\n\u001b[0;32m----> 2\u001b[0m \u001b[39mfrom\u001b[39;00m \u001b[39mpydantic\u001b[39;00m \u001b[39mimport\u001b[39;00m BaseModel\n\u001b[1;32m      4\u001b[0m \u001b[39mclass\u001b[39;00m \u001b[39mEventData\u001b[39;00m(BaseModel):\n\u001b[1;32m      5\u001b[0m     timestamp: \u001b[39mint\u001b[39m\n",
      "\u001b[0;31mModuleNotFoundError\u001b[0m: No module named 'pydantic'"
     ]
    }
   ],
   "source": [
    "# Load in the data from the backend\n",
    "# The data is stored in an SQLite database at ../backend/events.db\n",
    "# The eye-tracking data is stored in JSON files at ../backend/eye-tracker-data\n",
    "\n",
    "# Import the necessary libraries\n",
    "import models\n",
    "from ..backend.main import Events\n",
    "import numpy as np\n",
    "import matplotlib.pyplot as plt\n",
    "\n",
    "events = Events.select()\n",
    "\n",
    "print(events.count())"
   ]
  }
 ],
 "metadata": {
  "kernelspec": {
   "display_name": ".venv",
   "language": "python",
   "name": "python3"
  },
  "language_info": {
   "codemirror_mode": {
    "name": "ipython",
    "version": 3
   },
   "file_extension": ".py",
   "mimetype": "text/x-python",
   "name": "python",
   "nbconvert_exporter": "python",
   "pygments_lexer": "ipython3",
   "version": "3.11.6"
  }
 },
 "nbformat": 4,
 "nbformat_minor": 2
}
