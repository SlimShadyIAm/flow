{
 "cells": [
  {
   "cell_type": "code",
   "execution_count": null,
   "metadata": {},
   "outputs": [],
   "source": [
    "# This script will be used to analyze the eye-tracking data from the experiment.\n",
    "# It will be used to generate the figures and statistics for the paper.\n",
    "'''\n",
    "We hypothesize that individuals with visual impairments\n",
    "will be more inclined to adjust the text presentation when confronted with a clear problem\n",
    "compared to individuals with normal vision. This inclination\n",
    "is based on the observation that individuals with low vision often need to\n",
    "customize text presentation settings more frequently\n",
    "when using typical applications like Microsoft Word or Apple Books.\n",
    "A \"clear problem\" in this context could refer to issues\n",
    "such as excessively large margins relative to the text size,\n",
    "which can make it challenging to track the beginning of the next line.\n",
    "'''\n"
   ]
  },
  {
   "cell_type": "code",
   "execution_count": 24,
   "metadata": {},
   "outputs": [],
   "source": [
    "# Load in the data from the backend\n",
    "# The data is stored in an SQLite database at ../backend/events.db\n",
    "# The eye-tracking data is stored in JSON files at ../backend/eye-tracker-data\n",
    "\n",
    "# Import the necessary libraries\n",
    "import models\n",
    "from main import Events\n",
    "import numpy as np\n",
    "import matplotlib.pyplot as plt\n",
    "\n",
    "from peewee import IntegerField, Model, CharField, SqliteDatabase, AutoField\n",
    "db = SqliteDatabase('events.db')\n",
    "\n",
    "class Events(Model):\n",
    "    id = AutoField()\n",
    "    time = IntegerField()\n",
    "    agent = CharField()\n",
    "    event = CharField()\n",
    "    participant_id = IntegerField()\n",
    "    old_value = CharField(null=True)\n",
    "    new_value = CharField(null=True)\n",
    "    screenshot_file = CharField(null=True)\n",
    "\n",
    "    class Meta:\n",
    "        database = db\n",
    "\n",
    "# events = Events.select().where(Events.participant_id==98)\n"
   ]
  },
  {
   "cell_type": "code",
   "execution_count": 28,
   "metadata": {},
   "outputs": [
    {
     "name": "stdout",
     "output_type": "stream",
     "text": [
      "1701167121\n",
      "2023-11-28 11:25:21\n"
     ]
    }
   ],
   "source": [
    "import os\n",
    "\n",
    "# participants that were told that they can change the settings beforehand\n",
    "participant_ids = [98]\n",
    "\n",
    "# get the events \n",
    "for participant in participant_ids:\n",
    "  events = Events.select().where(Events.participant_id==98)\n",
    "\n",
    "  # get the gaze data for this participant\n",
    "  # the files are in eye_tracker_data/\n",
    "  path = \"eye_tracker_data/\"\n",
    "  gaze_data_files = [_file for _file in os.listdir(path) if _file.startswith(f\"[{str(participant)}]\") and _file.endswith(\".json\")]\n",
    "\n",
    "  event = events[-1]\n",
    "  print(event.time)\n",
    "  # parse the time as a datetime object\n",
    "  from datetime import datetime\n",
    "  time = datetime.fromtimestamp(event.time)\n",
    "  print(time)\n"
   ]
  }
 ],
 "metadata": {
  "kernelspec": {
   "display_name": ".venv",
   "language": "python",
   "name": "python3"
  },
  "language_info": {
   "codemirror_mode": {
    "name": "ipython",
    "version": 3
   },
   "file_extension": ".py",
   "mimetype": "text/x-python",
   "name": "python",
   "nbconvert_exporter": "python",
   "pygments_lexer": "ipython3",
   "version": "3.11.5"
  }
 },
 "nbformat": 4,
 "nbformat_minor": 2
}
