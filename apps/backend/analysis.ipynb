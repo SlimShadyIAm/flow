{
 "cells": [
  {
   "cell_type": "code",
   "execution_count": 46,
   "metadata": {},
   "outputs": [
    {
     "data": {
      "text/plain": [
       "'\\nWe hypothesize that individuals with visual impairments\\nwill be more inclined to adjust the text presentation when confronted with a clear problem\\ncompared to individuals with normal vision. This inclination\\nis based on the observation that individuals with low vision often need to\\ncustomize text presentation settings more frequently\\nwhen using typical applications like Microsoft Word or Apple Books.\\nA \"clear problem\" in this context could refer to issues\\nsuch as excessively large margins relative to the text size,\\nwhich can make it challenging to track the beginning of the next line.\\n'"
      ]
     },
     "execution_count": 46,
     "metadata": {},
     "output_type": "execute_result"
    }
   ],
   "source": [
    "# This script will be used to analyze the eye-tracking data from the experiment.\n",
    "# It will be used to generate the figures and statistics for the paper.\n",
    "'''\n",
    "We hypothesize that individuals with visual impairments\n",
    "will be more inclined to adjust the text presentation when confronted with a clear problem\n",
    "compared to individuals with normal vision. This inclination\n",
    "is based on the observation that individuals with low vision often need to\n",
    "customize text presentation settings more frequently\n",
    "when using typical applications like Microsoft Word or Apple Books.\n",
    "A \"clear problem\" in this context could refer to issues\n",
    "such as excessively large margins relative to the text size,\n",
    "which can make it challenging to track the beginning of the next line.\n",
    "'''\n"
   ]
  },
  {
   "cell_type": "code",
   "execution_count": 47,
   "metadata": {},
   "outputs": [],
   "source": [
    "# Load in the data from the backend\n",
    "# The data is stored in an SQLite database at ../backend/events.db\n",
    "# The eye-tracking data is stored in JSON files at ../backend/eye-tracker-data\n",
    "\n",
    "# Import the necessary libraries\n",
    "import models\n",
    "from main import Events\n",
    "import numpy as np\n",
    "import matplotlib.pyplot as plt\n",
    "\n",
    "from peewee import IntegerField, Model, CharField, SqliteDatabase, AutoField\n",
    "db = SqliteDatabase('events.db')\n",
    "\n",
    "class Events(Model):\n",
    "    id = AutoField()\n",
    "    time = IntegerField()\n",
    "    agent = CharField()\n",
    "    event = CharField()\n",
    "    participant_id = IntegerField()\n",
    "    old_value = CharField(null=True)\n",
    "    new_value = CharField(null=True)\n",
    "    screenshot_file = CharField(null=True)\n",
    "\n",
    "    class Meta:\n",
    "        database = db\n",
    "\n",
    "# events = Events.select().where(Events.participant_id==98)\n"
   ]
  },
  {
   "cell_type": "code",
   "execution_count": 49,
   "metadata": {},
   "outputs": [
    {
     "name": "stdout",
     "output_type": "stream",
     "text": [
      "dict_keys(['participantId', 'start_time', 'data'])\n",
      "dict_keys(['participantId', 'start_time', 'data'])\n",
      "dict_keys(['participantId', 'start_time', 'data'])\n"
     ]
    }
   ],
   "source": [
    "import os\n",
    "from datetime import datetime\n",
    "\n",
    "# participants that were told that they can change the settings beforehand\n",
    "participant_ids = [98]\n",
    "\n",
    "# get the events \n",
    "for participant in participant_ids:\n",
    "  events = Events.select().where(Events.participant_id==participant).where(Events.event==\"OPEN_BOOK\")\n",
    "\n",
    "  # get the gaze data for this participant\n",
    "  # the files are in eye_tracker_data/\n",
    "  path = \"eye_tracker_data/\"\n",
    "\n",
    "  for start_event in events:\n",
    "    timestamp_formatted = datetime.fromtimestamp(start_event.time).strftime(\"%Y-%m-%d_%H-%M-%S\")\n",
    "    gaze_data_filename = f\"[{str(participant)}]-{timestamp_formatted}.json\"\n",
    "    gaze_data_filepath = os.path.join(path, gaze_data_filename)\n",
    "    # Read the file\n",
    "    import json\n",
    "    with open(gaze_data_filepath, \"r\") as f:\n",
    "      gaze_data = json.load(f)\n",
    "\n",
    "    \n"
   ]
  },
  {
   "cell_type": "code",
   "execution_count": null,
   "metadata": {},
   "outputs": [],
   "source": []
  }
 ],
 "metadata": {
  "kernelspec": {
   "display_name": ".venv",
   "language": "python",
   "name": "python3"
  },
  "language_info": {
   "codemirror_mode": {
    "name": "ipython",
    "version": 3
   },
   "file_extension": ".py",
   "mimetype": "text/x-python",
   "name": "python",
   "nbconvert_exporter": "python",
   "pygments_lexer": "ipython3",
   "version": "3.11.5"
  }
 },
 "nbformat": 4,
 "nbformat_minor": 2
}
