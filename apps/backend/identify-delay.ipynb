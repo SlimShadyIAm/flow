{
 "cells": [
  {
   "cell_type": "code",
   "execution_count": 6,
   "metadata": {},
   "outputs": [
    {
     "name": "stdout",
     "output_type": "stream",
     "text": [
      "[1, 2, 3, 4, 5, 6, 11, 14, 15, 20]\n"
     ]
    }
   ],
   "source": [
    "import json\n",
    "\n",
    "\n",
    "with open (\"participants.json\", \"r\") as myfile:\n",
    "    participants = json.load(myfile)\n",
    "\n",
    "participants_with_good_resolution = [int(p) for p, meta in participants.items() if meta[\"low_resolution\"] == False]\n",
    "\n",
    "print(participants_with_good_resolution)"
   ]
  },
  {
   "cell_type": "markdown",
   "metadata": {},
   "source": [
    "Load all of the gaze data json files in eye_tracker_data/ with each participant's ID"
   ]
  },
  {
   "cell_type": "code",
   "execution_count": 30,
   "metadata": {},
   "outputs": [],
   "source": [
    "#Load all of the gaze data json files in eye_tracker_data/ with each participant's ID\n",
    "\n",
    "import os\n",
    "\n",
    "deltas = []\n",
    "\n",
    "for p in participants_with_good_resolution:\n",
    "  for f in os.listdir(\"eye_tracker_data/\"):\n",
    "    if f\"[{str(p)}]\" in f:\n",
    "      with open(\"eye_tracker_data/\" + f, \"r\") as myfile:\n",
    "        data = json.load(myfile)\n",
    "\n",
    "        first_gaze_packet_time = data[\"data\"][0][\"system_time_stamp\"] \n",
    "        experiment_start_time = data[\"system_start_time_mono\"] / 1000\n",
    "        delta = first_gaze_packet_time - experiment_start_time\n",
    "        deltas.append(delta / 1_000_000)\n"
   ]
  },
  {
   "cell_type": "code",
   "execution_count": 31,
   "metadata": {},
   "outputs": [
    {
     "name": "stdout",
     "output_type": "stream",
     "text": [
      "0.7901721666666667\n",
      "0.34124433599079285\n",
      "0.436267\n",
      "1.169763\n"
     ]
    }
   ],
   "source": [
    "# show statistics on the deltas, in seconds\n",
    "import statistics\n",
    "print(statistics.mean(deltas))\n",
    "print(statistics.stdev(deltas))\n",
    "print(min(deltas))\n",
    "print(max(deltas))\n"
   ]
  },
  {
   "cell_type": "code",
   "execution_count": null,
   "metadata": {},
   "outputs": [],
   "source": []
  }
 ],
 "metadata": {
  "kernelspec": {
   "display_name": "venv-anal",
   "language": "python",
   "name": "python3"
  },
  "language_info": {
   "codemirror_mode": {
    "name": "ipython",
    "version": 3
   },
   "file_extension": ".py",
   "mimetype": "text/x-python",
   "name": "python",
   "nbconvert_exporter": "python",
   "pygments_lexer": "ipython3",
   "version": "3.11.5"
  }
 },
 "nbformat": 4,
 "nbformat_minor": 2
}
